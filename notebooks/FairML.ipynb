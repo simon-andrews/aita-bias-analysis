{
 "cells": [
  {
   "cell_type": "code",
   "execution_count": 3,
   "metadata": {
    "colab": {
     "base_uri": "https://localhost:8080/"
    },
    "id": "-K2_VGVQRCw1",
    "outputId": "25f551f8-61e3-47fa-845c-b19aa6f464d3"
   },
   "outputs": [
    {
     "name": "stdout",
     "output_type": "stream",
     "text": [
      "/content/drive/MyDrive\n"
     ]
    }
   ],
   "source": [
    "%cd /content/drive/MyDrive"
   ]
  },
  {
   "cell_type": "code",
   "execution_count": 95,
   "metadata": {
    "id": "ctnZ6QpDRJTj"
   },
   "outputs": [],
   "source": [
    "import pandas as pd\n",
    "import matplotlib.pyplot as plt\n",
    "import numpy as np\n",
    "from sklearn.model_selection import train_test_split\n",
    "from sklearn.linear_model import LogisticRegression\n",
    "from sklearn.metrics import accuracy_score, f1_score\n",
    "from sklearn.preprocessing import OneHotEncoder"
   ]
  },
  {
   "cell_type": "code",
   "execution_count": 123,
   "metadata": {
    "colab": {
     "base_uri": "https://localhost:8080/"
    },
    "id": "4mh4ZJGcRPGn",
    "outputId": "b1efd326-6a24-44e3-af20-c9bf57c5bb04"
   },
   "outputs": [
    {
     "name": "stdout",
     "output_type": "stream",
     "text": [
      "Number of Samples: 99366\n"
     ]
    }
   ],
   "source": [
    "df = pd.read_csv(\"data.csv\", index_col = [0])\n",
    "df = df.dropna()\n",
    "print (\"Number of Samples:\", df.shape[0])"
   ]
  },
  {
   "cell_type": "code",
   "execution_count": 125,
   "metadata": {
    "id": "buWH_cFGwy3D"
   },
   "outputs": [],
   "source": [
    "df['final_score'] = df.groupby('op_permalink')['comment_score'].transform(lambda x: x/x.max())\n",
    "df.loc[(df['final_score'] < 0.0), 'final_score'] = 0.0\n",
    "df = df.drop(columns = ['op_permalink', 'comment_permalink'])"
   ]
  },
  {
   "cell_type": "code",
   "execution_count": 115,
   "metadata": {
    "colab": {
     "base_uri": "https://localhost:8080/"
    },
    "id": "oAtXl2U3w2Jw",
    "outputId": "8ad6fbb7-c1ed-4587-9507-7c2a0f4dd156"
   },
   "outputs": [
    {
     "data": {
      "text/plain": [
       "count    99367.000000\n",
       "mean         0.038205\n",
       "std          0.156270\n",
       "min          0.000000\n",
       "25%          0.000166\n",
       "50%          0.001085\n",
       "75%          0.006515\n",
       "max          1.000000\n",
       "Name: final_score, dtype: float64"
      ]
     },
     "execution_count": 115,
     "metadata": {},
     "output_type": "execute_result"
    }
   ],
   "source": [
    "df['final_score'].describe()"
   ]
  },
  {
   "cell_type": "code",
   "execution_count": 116,
   "metadata": {
    "colab": {
     "base_uri": "https://localhost:8080/",
     "height": 352
    },
    "id": "TJltGnBUw-u8",
    "outputId": "4c388870-3aa3-4ac0-caa6-e1a29040073f"
   },
   "outputs": [
    {
     "data": {
      "text/plain": [
       "(array([48249., 10905.,  5312.,  3992.,  2916.,  2099.,  1911.,  1317.,\n",
       "         1347.,  1009.]),\n",
       " array([0.   , 0.001, 0.002, 0.003, 0.004, 0.005, 0.006, 0.007, 0.008,\n",
       "        0.009, 0.01 ]),\n",
       " <a list of 10 Patch objects>)"
      ]
     },
     "execution_count": 116,
     "metadata": {},
     "output_type": "execute_result"
    },
    {
     "data": {
      "image/png": "[encoded data removed]",
      "text/plain": [
       "<Figure size 432x288 with 1 Axes>"
      ]
     },
     "metadata": {
      "needs_background": "light"
     },
     "output_type": "display_data"
    }
   ],
   "source": [
    "hist = plt.hist(df['final_score'], range = [0.0, 0.01], bins = 10)\n",
    "hist"
   ]
  },
  {
   "cell_type": "code",
   "execution_count": 129,
   "metadata": {
    "colab": {
     "base_uri": "https://localhost:8080/"
    },
    "id": "OVPaWZGKxF9t",
    "outputId": "d811e739-7721-4fb2-8d2f-8db99622fd05"
   },
   "outputs": [
    {
     "name": "stdout",
     "output_type": "stream",
     "text": [
      "Bins: [0.    0.001 0.002 0.003 0.004 0.005 0.006 0.007 0.008 0.009 0.01  0.109\n",
      " 0.208 0.307 0.406 0.505 0.604 0.703 0.802 0.901 1.   ]\n"
     ]
    }
   ],
   "source": [
    "#Close to 80% of data < 0.01 score\n",
    "bins = np.concatenate((np.linspace(0.0, 0.01, num=11), np.linspace(0.01, 1.0, num=11)[1:]))\n",
    "print (\"Bins:\", bins)\n",
    "df['label'] = pd.cut(df['final_score'], bins = bins, include_lowest = True, labels = [i for i in range(bins.shape[0]-1)])"
   ]
  },
  {
   "cell_type": "code",
   "execution_count": 131,
   "metadata": {
    "colab": {
     "base_uri": "https://localhost:8080/"
    },
    "id": "qHwr8M33xl6u",
    "outputId": "1a495783-b898-42fc-cbc9-8486d9c8606f"
   },
   "outputs": [
    {
     "name": "stdout",
     "output_type": "stream",
     "text": [
      "Index(['op_ah_judgement_ratio', 'op_created', 'op_flair',\n",
      "       'op_flesch_reading_ease', 'op_age', 'op_gender', 'op_score',\n",
      "       'op_sentiment', 'op_upvote_ratio', 'comment_created',\n",
      "       'comment_flesch_reading_ease', 'comment_judgement', 'comment_sentiment',\n",
      "       'label'],\n",
      "      dtype='object')\n"
     ]
    }
   ],
   "source": [
    "df = df.drop(columns = ['final_score', 'comment_score'])\n",
    "print (df.keys())"
   ]
  },
  {
   "cell_type": "code",
   "execution_count": 132,
   "metadata": {
    "colab": {
     "base_uri": "https://localhost:8080/"
    },
    "id": "zz-UNjVs2Ym6",
    "outputId": "20853bc6-4317-45b4-b224-92ff8933a93c"
   },
   "outputs": [
    {
     "name": "stdout",
     "output_type": "stream",
     "text": [
      "Index(['op_ah_judgement_ratio', 'op_created', 'op_flesch_reading_ease',\n",
      "       'op_age', 'op_score', 'op_sentiment', 'op_upvote_ratio',\n",
      "       'comment_created', 'comment_flesch_reading_ease', 'comment_sentiment',\n",
      "       'label', 'op_flair_Asshole', 'op_flair_Everyone Sucks',\n",
      "       'op_flair_No A-holes here', 'op_flair_Not enough info',\n",
      "       'op_flair_Not the A-hole', 'op_gender_f', 'op_gender_m', 'op_gender_nb',\n",
      "       'comment_judgement_esh', 'comment_judgement_info',\n",
      "       'comment_judgement_nah', 'comment_judgement_nta',\n",
      "       'comment_judgement_yta'],\n",
      "      dtype='object')\n"
     ]
    }
   ],
   "source": [
    "df = pd.get_dummies(df, columns = ['op_flair', 'op_gender', 'comment_judgement'])\n",
    "print (df.keys())"
   ]
  },
  {
   "cell_type": "code",
   "execution_count": 133,
   "metadata": {
    "id": "ew02oX8U0EiC"
   },
   "outputs": [],
   "source": [
    "X = df.drop(columns = ['label'])\n",
    "y = df['label']\n",
    "X_train, X_test, y_train, y_test = train_test_split(X, y, train_size = 0.8, random_state = 42)"
   ]
  },
  {
   "cell_type": "code",
   "execution_count": 135,
   "metadata": {
    "colab": {
     "base_uri": "https://localhost:8080/"
    },
    "id": "5cgqWQOM0xbd",
    "outputId": "8cd2483f-4cab-4fdd-ccb1-7a6f3cb434e8"
   },
   "outputs": [
    {
     "name": "stdout",
     "output_type": "stream",
     "text": [
      "0.4798732011673543\n"
     ]
    }
   ],
   "source": [
    "model = LogisticRegression()\n",
    "model.fit(X_train, y_train)\n",
    "y_pred = model.predict(X_test)\n",
    "print (accuracy_score(y_test, y_pred))"
   ]
  },
  {
   "cell_type": "code",
   "execution_count": 136,
   "metadata": {
    "colab": {
     "base_uri": "https://localhost:8080/"
    },
    "id": "I_mLqJ0wJxcR",
    "outputId": "403abafc-8996-4dcc-a1fa-6d9c7906913e"
   },
   "outputs": [
    {
     "name": "stdout",
     "output_type": "stream",
     "text": [
      "0.032426643092720406\n"
     ]
    }
   ],
   "source": [
    "print (f1_score(y_test, y_pred, average = 'macro'))"
   ]
  }
 ],
 "metadata": {
  "colab": {
   "provenance": []
  },
  "kernelspec": {
   "display_name": "Python 3 (ipykernel)",
   "language": "python",
   "name": "python3"
  },
  "language_info": {
   "codemirror_mode": {
    "name": "ipython",
    "version": 3
   },
   "file_extension": ".py",
   "mimetype": "text/x-python",
   "name": "python",
   "nbconvert_exporter": "python",
   "pygments_lexer": "ipython3",
   "version": "3.10.7"
  }
 },
 "nbformat": 4,
 "nbformat_minor": 4
}
